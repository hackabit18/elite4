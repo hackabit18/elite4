{
 "cells": [
  {
   "cell_type": "code",
   "execution_count": null,
   "metadata": {
    "collapsed": true
   },
   "outputs": [],
   "source": [
    "# import the necessary packages\n",
    "from collections import deque\n",
    "from imutils.video import VideoStream\n",
    "import numpy as np\n",
    "import imutils\n",
    "import cv2\n",
    "import time\n",
    "import tensorflow as tf"
   ]
  },
  {
   "cell_type": "code",
   "execution_count": null,
   "metadata": {
    "collapsed": true
   },
   "outputs": [],
   "source": [
    "\n",
    "x=0\n",
    "greenLower = (98, 149, 48)\n",
    "greenUpper = (203, 255, 255)\n",
    "pts = deque(maxlen=800)\n",
    "vs = VideoStream(src=0).start()\n",
    "time.sleep(2.0)\n",
    "\n",
    "\n",
    "\n",
    "# keep looping\n",
    "while True:\n",
    "    # grab the current frame\n",
    "    frame=vs.read()\n",
    "    # if we are viewing a video and we did not grab a frame,\n",
    "    # then we have reached the end of the video\n",
    "    # resize the frame, blur it, and convert it to the HSV\n",
    "    # color space\n",
    "    if frame is None:\n",
    "    \tbreak\n",
    "\n",
    "    frame = imutils.resize(frame, width=600)\n",
    "    hsv = cv2.cvtColor(frame, cv2.COLOR_BGR2HSV)\n",
    "    # construct a mask for the color \"green\", then perform\n",
    "    # a series of dilations and erosions to remove any small\n",
    "    # blobs left in the mask\n",
    "    mask = cv2.inRange(hsv, greenLower, greenUpper)\n",
    "    mask = cv2.erode(mask, None, iterations=2)\n",
    "    mask = cv2.dilate(mask, None, iterations=2)\n",
    "    cnts = cv2.findContours(mask.copy(), cv2.RETR_EXTERNAL,cv2.CHAIN_APPROX_SIMPLE)[1]\n",
    "    center = None\n",
    " \n",
    "    # only proceed if at least one contour was found\n",
    "    if len(cnts)>0:\n",
    "        c = max(cnts, key=cv2.contourArea)\n",
    "        ((x, y), radius) = cv2.minEnclosingCircle(c)\n",
    "        M = cv2.moments(c)\n",
    "        center = (int(M[\"m10\"] / M[\"m00\"]), int(M[\"m01\"] / M[\"m00\"]))\n",
    "        # only proceed if the radius meets a minimum size\n",
    "        if radius > 5:\n",
    "            # draw the circle and centroid on the frame,\n",
    "            # then update the list of tracked points\n",
    "            cv2.circle(frame, (int(x), int(y)), int(radius),(255, 0, 0), 2)\n",
    "            cv2.circle(frame, center, 5, (148, 88, 22), -1)\n",
    "            # update the points queue\n",
    "    pts.appendleft(center)\n",
    "\n",
    "    for i in range(1, len(pts)):\n",
    "        if pts[i - 1] is None or pts[i] is None:\n",
    "            continue\n",
    " \n",
    "        # otherwise, compute the thickness of the line and\n",
    "        # draw the connecting lines\n",
    "        #thickness = int(np.sqrt(20 / float(i + 1)) * 2.5)\n",
    "        thickness= 10\n",
    "        if(thickness>0):\n",
    "        \tcv2.line(frame, pts[i - 1], pts[i], (255, 255, 255), thickness)\n",
    "    # show the frame to our screen\n",
    "    frame= cv2.flip(frame,1)\n",
    "    cv2.imshow(\"Frame\", frame)\n",
    "    key = cv2.waitKey(1) & 0xFF\n",
    "\n",
    "    if key==ord(\"c\"):\n",
    "        if x==1:\n",
    "            print(\"dayum\")\n",
    "            x=0\n",
    "            print(x)\n",
    "            continue\n",
    "        else:\n",
    "            print(\"not dayum\")\n",
    "            x=1\n",
    "            continue\n",
    "     \t\n",
    "    # if the 'q' key is pressed, stop the loop\n",
    "    if key == ord(\"q\"):\n",
    "        cv2.imwrite(\"./img.jpg\",frame)\n",
    "        break\n",
    " \n",
    "# cleanup the camera and close any open windows\n",
    "#vs.close()\n",
    "cv2.destroyAllWindows()\n",
    "time.sleep(4)\n",
    "img= cv2.imread(\"./img.jpg\")\n",
    "hsv=cv2.cvtColor(img,cv2.COLOR_BGR2HSV)\n",
    "mask=cv2.inRange(hsv,(0,0,255),(0,0,255))\n",
    "mask = cv2.dilate(mask, None, iterations=3)\n",
    "mask= cv2.bitwise_not(mask)\n",
    "\n",
    "cv2.imwrite(\"Result.jpg\", mask)\n",
    "\n",
    "key= cv2.waitKey(1) & 0xFF\n",
    "\n",
    "if key == ord(\"q\"):\n",
    "    cv2.destroyAllWindows()\n"
   ]
  },
  {
   "cell_type": "code",
   "execution_count": null,
   "metadata": {
    "collapsed": true
   },
   "outputs": [],
   "source": [
    "x_img=cv2.imread(\"Result.jpg\")\n",
    "x_img=cv2.resize(x_img, (28, 28))\n",
    "x_img = cv2.cvtColor(x_img, cv2.COLOR_BGR2GRAY)\n",
    "x_img=np.array(x_img).reshape(1,28,28,1)\n",
    "img=np.array(x_img, dtype=\"float32\")\n",
    "for i in range (0,28):\n",
    "    for j in range(0,28):\n",
    "        img[0][i][j]=(255. - img[0][i][j])/(255. )\n",
    "img.reshape(1,28,28,1)\n",
    "save_model_path='D:/Work/quickdraw'\n",
    "shape_list=[\"airplane\", \"bagpack\", \"basket\", \"bicycle\", \"car\", \"chair\", \n",
    "            \"circle\", \"clock\", \"microphone\", \"rifle\", \"square\", \"table\"]"
   ]
  },
  {
   "cell_type": "code",
   "execution_count": null,
   "metadata": {
    "collapsed": true
   },
   "outputs": [],
   "source": [
    "\n",
    "def test_model():\n",
    "    \n",
    "    sess = tf.Session()\n",
    "    saver = tf.train.import_meta_graph(save_model_path+'.meta')\n",
    "    saver.restore(sess,save_model_path)\n",
    "\n",
    "\n",
    "    # Get Tensors from loaded model\n",
    "    logits = tf.get_default_graph().get_tensor_by_name(\"logits:0\")\n",
    "    x = tf.get_default_graph().get_tensor_by_name(\"x:0\")\n",
    "    accuracy = tf.get_default_graph().get_tensor_by_name(\"acc:0\")\n",
    "    \n",
    "    val=sess.run(logits, feed_dict={x:img})\n",
    "    print(shape_list[val[0]])"
   ]
  },
  {
   "cell_type": "code",
   "execution_count": null,
   "metadata": {},
   "outputs": [],
   "source": [
    "test_model()"
   ]
  }
 ],
 "metadata": {
  "kernelspec": {
   "display_name": "tfkernal",
   "language": "python",
   "name": "tfkernal"
  },
  "language_info": {
   "codemirror_mode": {
    "name": "ipython",
    "version": 3
   },
   "file_extension": ".py",
   "mimetype": "text/x-python",
   "name": "python",
   "nbconvert_exporter": "python",
   "pygments_lexer": "ipython3",
   "version": "3.6.1"
  }
 },
 "nbformat": 4,
 "nbformat_minor": 2
}
